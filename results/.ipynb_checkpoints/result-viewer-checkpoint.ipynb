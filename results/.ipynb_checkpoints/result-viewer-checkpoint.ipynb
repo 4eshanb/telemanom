{
 "cells": [
  {
   "cell_type": "markdown",
   "metadata": {},
   "source": [
    "# Results \n",
    "- Plot training/test telemetry values, predictions, smoothed errors, and predicted and actual anomalies\n",
    "- A specified results file from the `results` dir is used to highlight anomalous regions and read in data from the `data` dir"
   ]
  },
  {
   "cell_type": "code",
   "execution_count": 1,
   "metadata": {},
   "outputs": [
    {
     "data": {
      "text/html": [
       "        <script type=\"text/javascript\">\n",
       "        window.PlotlyConfig = {MathJaxConfig: 'local'};\n",
       "        if (window.MathJax) {MathJax.Hub.Config({SVG: {font: \"STIX-Web\"}});}\n",
       "        if (typeof require !== 'undefined') {\n",
       "        require.undef(\"plotly\");\n",
       "        requirejs.config({\n",
       "            paths: {\n",
       "                'plotly': ['https://cdn.plot.ly/plotly-latest.min']\n",
       "            }\n",
       "        });\n",
       "        require(['plotly'], function(Plotly) {\n",
       "            window._Plotly = Plotly;\n",
       "        });\n",
       "        }\n",
       "        </script>\n",
       "        "
      ]
     },
     "metadata": {},
     "output_type": "display_data"
    },
    {
     "data": {
      "text/html": [
       "        <script type=\"text/javascript\">\n",
       "        window.PlotlyConfig = {MathJaxConfig: 'local'};\n",
       "        if (window.MathJax) {MathJax.Hub.Config({SVG: {font: \"STIX-Web\"}});}\n",
       "        if (typeof require !== 'undefined') {\n",
       "        require.undef(\"plotly\");\n",
       "        requirejs.config({\n",
       "            paths: {\n",
       "                'plotly': ['https://cdn.plot.ly/plotly-latest.min']\n",
       "            }\n",
       "        });\n",
       "        require(['plotly'], function(Plotly) {\n",
       "            window._Plotly = Plotly;\n",
       "        });\n",
       "        }\n",
       "        </script>\n",
       "        "
      ]
     },
     "metadata": {},
     "output_type": "display_data"
    }
   ],
   "source": [
    "import sys\n",
    "import numpy as np\n",
    "import csv\n",
    "import os\n",
    "sys.path.insert(0, '..')\n",
    "from telemanom._globals import Config\n",
    "import telemanom.helpers as helpers\n",
    "import pandas as pd\n",
    "import plotly as py\n",
    "from plotly.offline import download_plotlyjs, init_notebook_mode\n",
    "import cufflinks as cf\n",
    "import glob\n",
    "cf.go_offline()\n",
    "init_notebook_mode(connected=True)\n",
    "\n",
    "# load in current system configs\n",
    "config = Config(\"../config.yaml\")"
   ]
  },
  {
   "cell_type": "code",
   "execution_count": 2,
   "metadata": {},
   "outputs": [
    {
     "data": {
      "application/javascript": [
       "IPython.OutputArea.prototype._should_scroll = function(lines) {\n",
       "    return false;\n",
       "}\n"
      ],
      "text/plain": [
       "<IPython.core.display.Javascript object>"
      ]
     },
     "metadata": {},
     "output_type": "display_data"
    }
   ],
   "source": [
    "%%javascript\n",
    "IPython.OutputArea.prototype._should_scroll = function(lines) {\n",
    "    return false;\n",
    "}"
   ]
  },
  {
   "cell_type": "markdown",
   "metadata": {},
   "source": [
    "## Select set of results to visualize"
   ]
  },
  {
   "cell_type": "code",
   "execution_count": 3,
   "metadata": {},
   "outputs": [
    {
     "name": "stdout",
     "output_type": "stream",
     "text": [
      "Using most recent run: 2018-05-19_15.00.10.csv\n"
     ]
    }
   ],
   "source": [
    "# results_fn = '2018-05-18_16.17.03.csv'\n",
    "# print(\"Prior run: %s\" %results_fn)\n",
    "\n",
    "# Default to most recent\n",
    "results_fn = glob.glob('*.csv')[-1]\n",
    "print(\"Using most recent run: %s\" %results_fn)"
   ]
  },
  {
   "cell_type": "markdown",
   "metadata": {},
   "source": [
    "## Parameters\n",
    "- See `config.yaml` for parameter explanations"
   ]
  },
  {
   "cell_type": "code",
   "execution_count": 4,
   "metadata": {},
   "outputs": [
    {
     "name": "stdout",
     "output_type": "stream",
     "text": [
      "----------------\n",
      "batch_size: 70\n",
      "dropout: 0.3\n",
      "epochs: 35\n",
      "error_buffer: 100\n",
      "l_s: 250\n",
      "layers: [80, 80]\n",
      "loss_metric: mse\n",
      "lstm_batch_size: 64\n",
      "min_delta: 0.0003\n",
      "n_predictions: 10\n",
      "optimizer: adam\n",
      "p: 0.13\n",
      "patience: 10\n",
      "predict: False\n",
      "smoothing_perc: 0.05\n",
      "train: False\n",
      "validation_split: 0.2\n",
      "window_size: 30\n",
      "----------------\n"
     ]
    }
   ],
   "source": [
    "with open('../data/%s/params.log' %results_fn[:-4], 'r') as f:\n",
    "    for i,row in enumerate(f.readlines()):\n",
    "        if len(row) < 2:\n",
    "            break\n",
    "        if i > 0:\n",
    "            print(' '.join(row.split(' ')[3:]).replace('\\n',''))"
   ]
  },
  {
   "cell_type": "markdown",
   "metadata": {},
   "source": [
    "## Summary of results"
   ]
  },
  {
   "cell_type": "code",
   "execution_count": 5,
   "metadata": {},
   "outputs": [
    {
     "name": "stdout",
     "output_type": "stream",
     "text": [
      "Final Totals:\n",
      "-----------------\n",
      "True Positives: 84 \n",
      "False Positives: 11 \n",
      "False Negatives: 21\n",
      "\n",
      "Precision: 0.8842105263157894\n",
      "Recall: 0.8\n"
     ]
    }
   ],
   "source": [
    "with open('../data/%s/params.log' %results_fn[:-4], 'r') as f:\n",
    "    print_row = False\n",
    "    for row in f.readlines():\n",
    "        if 'Final' in row:\n",
    "            print_row = True\n",
    "        if print_row:\n",
    "            print(' '.join(row.split(' ')[3:]).replace('\\n',''))"
   ]
  },
  {
   "cell_type": "markdown",
   "metadata": {},
   "source": [
    "## Interactive inline Plotly charts for viewing `y_test`, `y_hat`, and `smoothed errors (e_s)`\n",
    "- **Blue** highlighted regions indicate anomalous sequences detected by the system\n",
    "- **Red** highlighted regions indicate true anomalous regions\n",
    "- Can also optionally plot training data by setting `plot_train=True`\n",
    "- Plots can be limited by specifying start and end rows in the results file to plot via `run=(<start row>, <end row>)`"
   ]
  },
  {
   "cell_type": "code",
   "execution_count": 7,
   "metadata": {
    "scrolled": false
   },
   "outputs": [],
   "source": [
    "helpers.view_results(results_fn, plot_errors=True, plot_train=False, rows=(0,10))"
   ]
  },
  {
   "cell_type": "code",
   "execution_count": null,
   "metadata": {},
   "outputs": [],
   "source": []
  }
 ],
 "metadata": {
  "kernelspec": {
   "display_name": "Python 3",
   "language": "python",
   "name": "python3"
  },
  "language_info": {
   "codemirror_mode": {
    "name": "ipython",
    "version": 3
   },
   "file_extension": ".py",
   "mimetype": "text/x-python",
   "name": "python",
   "nbconvert_exporter": "python",
   "pygments_lexer": "ipython3",
   "version": "3.6.8"
  }
 },
 "nbformat": 4,
 "nbformat_minor": 2
}
